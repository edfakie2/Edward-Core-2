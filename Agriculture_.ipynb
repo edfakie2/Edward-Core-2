{
  "nbformat": 4,
  "nbformat_minor": 0,
  "metadata": {
    "colab": {
      "name": "Agriculture .ipynb",
      "provenance": [],
      "collapsed_sections": [],
      "authorship_tag": "ABX9TyPeDt/hG9eGjdrr9sFoR9Pl",
      "include_colab_link": true
    },
    "kernelspec": {
      "name": "python3",
      "display_name": "Python 3"
    },
    "language_info": {
      "name": "python"
    }
  },
  "cells": [
    {
      "cell_type": "markdown",
      "metadata": {
        "id": "view-in-github",
        "colab_type": "text"
      },
      "source": [
        "<a href=\"https://colab.research.google.com/github/edfakie2/Edward-Core-2/blob/main/Agriculture_.ipynb\" target=\"_parent\"><img src=\"https://colab.research.google.com/assets/colab-badge.svg\" alt=\"Open In Colab\"/></a>"
      ]
    },
    {
      "cell_type": "code",
      "source": [
        "import pandas as pd\n",
        "import numpy as np\n",
        "import matplotlib.pyplot as plt\n",
        "from sklearn.model_selection import train_test_split\n",
        "from sklearn.preprocessing import StandardScaler, OneHotEncoder\n",
        "from sklearn.compose import make_column_selector, make_column_transformer\n",
        "from sklearn.pipeline import make_pipeline\n",
        "from sklearn.dummy import DummyRegressor\n",
        "from sklearn.metrics import mean_squared_error, mean_absolute_error, r2_score\n",
        "from sklearn.tree import DecisionTreeRegressor\n",
        "from sklearn.ensemble import RandomForestRegressor\n",
        "from sklearn.model_selection import GridSearchCV\n",
        "from sklearn.tree import plot_tree\n",
        "from sklearn import set_config\n",
        "set_config(display='diagram')"
      ],
      "metadata": {
        "id": "2vkV2IowcTkG"
      },
      "execution_count": 1,
      "outputs": []
    },
    {
      "cell_type": "code",
      "execution_count": 8,
      "metadata": {
        "id": "Z0EhUhVVcI8i"
      },
      "outputs": [],
      "source": [
        "df = pd.read_excel('/content/Seed_dataset.xlsx')"
      ]
    },
    {
      "cell_type": "code",
      "source": [
        "df.info()"
      ],
      "metadata": {
        "colab": {
          "base_uri": "https://localhost:8080/"
        },
        "id": "bq3HqxFWN_AJ",
        "outputId": "17205a6e-2399-4069-ac14-794719157f12"
      },
      "execution_count": 10,
      "outputs": [
        {
          "output_type": "stream",
          "name": "stdout",
          "text": [
            "<class 'pandas.core.frame.DataFrame'>\n",
            "RangeIndex: 210 entries, 0 to 209\n",
            "Data columns (total 8 columns):\n",
            " #   Column                   Non-Null Count  Dtype  \n",
            "---  ------                   --------------  -----  \n",
            " 0   Area                     210 non-null    float64\n",
            " 1   Perimeter                210 non-null    float64\n",
            " 2   Compactness              210 non-null    float64\n",
            " 3   Length of Kernel         210 non-null    float64\n",
            " 4   Width of Kernel          210 non-null    float64\n",
            " 5   Asymmetry Coefficient    210 non-null    float64\n",
            " 6   Length of Kernel Groove  210 non-null    float64\n",
            " 7   Seed Type                210 non-null    int64  \n",
            "dtypes: float64(7), int64(1)\n",
            "memory usage: 13.2 KB\n"
          ]
        }
      ]
    },
    {
      "cell_type": "code",
      "source": [
        "df2 = pd.read_excel('/content/Leaf.xlsx')"
      ],
      "metadata": {
        "id": "x9LDJ6OOM1PS"
      },
      "execution_count": 9,
      "outputs": []
    },
    {
      "cell_type": "code",
      "source": [
        "df2.info()"
      ],
      "metadata": {
        "colab": {
          "base_uri": "https://localhost:8080/"
        },
        "id": "7Pk723PcOH0E",
        "outputId": "b348f3a0-b99c-4d38-a183-f8daa2840e78"
      },
      "execution_count": 11,
      "outputs": [
        {
          "output_type": "stream",
          "name": "stdout",
          "text": [
            "<class 'pandas.core.frame.DataFrame'>\n",
            "RangeIndex: 340 entries, 0 to 339\n",
            "Data columns (total 16 columns):\n",
            " #   Column                     Non-Null Count  Dtype  \n",
            "---  ------                     --------------  -----  \n",
            " 0   Class                      340 non-null    int64  \n",
            " 1   Specimen Number            340 non-null    int64  \n",
            " 2   Eccentricity               340 non-null    float64\n",
            " 3   Aspect Ratio               340 non-null    float64\n",
            " 4   Elongation                 340 non-null    float64\n",
            " 5   Solidity                   340 non-null    float64\n",
            " 6   Stochastic Convexity       340 non-null    float64\n",
            " 7   Isoperimetric Factor       340 non-null    float64\n",
            " 8   Maximal Indentation Depth  340 non-null    float64\n",
            " 9   Lobedness                  340 non-null    float64\n",
            " 10  Average Intensity          340 non-null    float64\n",
            " 11  Average Contrast           340 non-null    float64\n",
            " 12  Smoothness                 340 non-null    float64\n",
            " 13  Third Moment               340 non-null    float64\n",
            " 14  Uniformity                 340 non-null    float64\n",
            " 15  Entropy                    340 non-null    float64\n",
            "dtypes: float64(14), int64(2)\n",
            "memory usage: 42.6 KB\n"
          ]
        }
      ]
    },
    {
      "cell_type": "code",
      "source": [
        "## I've obviously had a hard time finding data that is usuable or that I'm interested in. \n",
        "## Both of these data sets are similar to me\n",
        "## The second had 36 differeent types vs the first with only 3 \n",
        "## I found these datasets very obviously in the same place you (Coding Dojo) found theirs\n",
        "## I'm pretty sure we didnt do either of these but thats my main concern\n",
        "\n",
        "## I'm going to be building models to predict Leaf Class (data 2) and or Seed Type (data 1)"
      ],
      "metadata": {
        "id": "8GzMXO4YjzTw"
      },
      "execution_count": 3,
      "outputs": []
    },
    {
      "cell_type": "code",
      "source": [
        ""
      ],
      "metadata": {
        "id": "NlcExZGDlxTg"
      },
      "execution_count": 4,
      "outputs": []
    }
  ]
}